{
 "cells": [
  {
   "cell_type": "code",
   "execution_count": 8,
   "metadata": {},
   "outputs": [],
   "source": [
    "import boto3\n",
    "from botocore.exceptions import ClientError\n",
    "\n",
    "\n",
    "def get_secret():\n",
    "\n",
    "    secret_name = \"DataSource_PostgresDB_Credentials\"\n",
    "    region_name = \"eu-west-2\"\n",
    "\n",
    "    # Create a Secrets Manager client\n",
    "    session = boto3.session.Session()\n",
    "    client = session.client(\n",
    "        service_name='secretsmanager',\n",
    "        region_name=region_name\n",
    "    )\n",
    "\n",
    "    try:\n",
    "        get_secret_value_response = client.get_secret_value(\n",
    "            SecretId=secret_name\n",
    "        )\n",
    "    except ClientError as e:\n",
    "        # For a list of exceptions thrown, see\n",
    "        # https://docs.aws.amazon.com/secretsmanager/latest/apireference/API_GetSecretValue.html\n",
    "        raise e\n",
    "\n",
    "    secret = get_secret_value_response['SecretString']\n",
    "    return secret"
   ]
  },
  {
   "cell_type": "code",
   "execution_count": 9,
   "metadata": {},
   "outputs": [
    {
     "name": "stdout",
     "output_type": "stream",
     "text": [
      "Secret retrieved successfully\n"
     ]
    }
   ],
   "source": [
    "# Test the function\n",
    "try:\n",
    "    result = get_secret()\n",
    "    print(\"Secret retrieved successfully\")\n",
    "    # Be careful not to print the actual secret in a production environment\n",
    "except Exception as e:\n",
    "    print(f\"Error retrieving secret: {str(e)}\")"
   ]
  },
  {
   "cell_type": "code",
   "execution_count": 12,
   "metadata": {},
   "outputs": [],
   "source": [
    "import boto3\n",
    "from botocore.exceptions import ClientError\n",
    "from pg8000.native import Connection, Error\n",
    "import pandas as pd\n",
    "import json\n",
    "\n",
    "def get_secret():\n",
    "    secret_name = \"DataSource_PostgresDB_Credentials\"\n",
    "    region_name = \"eu-west-2\"\n",
    "\n",
    "    # Create a Secrets Manager client\n",
    "    session = boto3.session.Session()\n",
    "    client = session.client(\n",
    "        service_name='secretsmanager',\n",
    "        region_name=region_name\n",
    "    )\n",
    "\n",
    "    try:\n",
    "        get_secret_value_response = client.get_secret_value(\n",
    "            SecretId=secret_name\n",
    "        )\n",
    "    except ClientError as e:\n",
    "        raise e\n",
    "\n",
    "    secret = get_secret_value_response['SecretString']\n",
    "    return secret\n",
    "\n",
    "def create_connection():\n",
    "    # Retrieve the secret\n",
    "    secret = get_secret()\n",
    "    secret_dict = json.loads(secret)\n",
    "\n",
    "    # Extract credentials from the secret\n",
    "    user = secret_dict['user']\n",
    "    password = secret_dict['password']\n",
    "    host = secret_dict['host']\n",
    "    database = secret_dict['database']\n",
    "    port = secret_dict['port']\n",
    "\n",
    "    # Establish the database connection\n",
    "    conn = Connection(\n",
    "        user=user,\n",
    "        database=database,\n",
    "        host=host,\n",
    "        password=password,\n",
    "        port=port\n",
    "    )\n",
    "    return conn"
   ]
  },
  {
   "cell_type": "code",
   "execution_count": 25,
   "metadata": {},
   "outputs": [
    {
     "name": "stdout",
     "output_type": "stream",
     "text": [
      "Table: sales_order\n",
      " sales_order_id              created_at            last_updated  design_id  staff_id  counterparty_id  units_sold unit_price  currency_id agreed_delivery_date agreed_payment_date  agreed_delivery_location_id\n",
      "              2 2022-11-03 14:20:52.186 2022-11-03 14:20:52.186          3        19                8       42972       3.94            2           2022-11-07          2022-11-08                            8\n",
      "              3 2022-11-03 14:20:52.188 2022-11-03 14:20:52.188          4        10                4       65839       2.91            3           2022-11-06          2022-11-07                           19\n",
      "              4 2022-11-03 14:20:52.188 2022-11-03 14:20:52.188          4        10               16       32069       3.89            2           2022-11-05          2022-11-07                           15\n",
      "              5 2022-11-03 14:20:52.186 2022-11-03 14:20:52.186          7        18                4       49659       2.41            3           2022-11-05          2022-11-08                           25\n",
      "              6 2022-11-04 11:37:10.341 2022-11-04 11:37:10.341          3        13               18       83908       3.99            3           2022-11-04          2022-11-07                           17\n",
      "              7 2022-11-04 12:57:09.926 2022-11-04 12:57:09.926          7        11               10       65453       2.89            2           2022-11-04          2022-11-09                           28\n",
      "              8 2022-11-04 13:45:10.306 2022-11-04 13:45:10.306          2        11               20       20381       2.22            2           2022-11-06          2022-11-07                            8\n",
      "             10 2022-11-07 09:07:10.485 2022-11-07 09:07:10.485          3        16               12       61620       3.86            2           2022-11-09          2022-11-10                           20\n",
      "             11 2022-11-07 15:53:10.153 2022-11-07 15:53:10.153          9        14               12       35227       3.41            2           2022-11-08          2022-11-13                           13\n",
      "             12 2022-11-09 10:20:09.912 2022-11-09 10:20:09.912          2         8               12        7693       3.88            2           2022-11-13          2022-11-11                           15\n"
     ]
    }
   ],
   "source": [
    "conn = create_connection()\n",
    "\n",
    "try:\n",
    "    query = 'SELECT * FROM sales_order LIMIT 10;'\n",
    "    results = conn.run(query)\n",
    "\n",
    "    column_names = [desc['name'] for desc in conn.columns]\n",
    "    df_sales_order = pd.DataFrame(results, columns=column_names)\n",
    "    print(\"Table: sales_order\")\n",
    "    print(df_sales_order.to_string(index=False))\n",
    "    # print(df_sales_order)\n",
    "finally:\n",
    "    conn.close()"
   ]
  },
  {
   "cell_type": "code",
   "execution_count": 14,
   "metadata": {},
   "outputs": [
    {
     "name": "stdout",
     "output_type": "stream",
     "text": [
      "Table: design\n",
      " design_id              created_at design_name file_location                   file_name            last_updated\n",
      "         8 2022-11-03 14:20:49.962      Wooden          /usr   wooden-20220717-npgz.json 2022-11-03 14:20:49.962\n",
      "        51 2023-01-12 18:50:09.935      Bronze      /private   bronze-20221024-4dds.json 2023-01-12 18:50:09.935\n",
      "        69 2023-02-07 17:31:10.093      Bronze   /lost+found   bronze-20230102-r904.json 2023-02-07 17:31:10.093\n",
      "        16 2022-11-22 15:02:10.226        Soft       /System     soft-20211001-cjaz.json 2022-11-22 15:02:10.226\n",
      "        54 2023-01-16 09:14:09.775     Plastic    /usr/ports  plastic-20221206-bw3l.json 2023-01-16 09:14:09.775\n",
      "        55 2023-01-19 08:10:10.138    Concrete  /opt/include concrete-20210614-04nd.json 2023-01-19 08:10:10.138\n",
      "        10 2022-11-03 14:20:49.962        Soft    /usr/share     soft-20220201-hzz1.json 2022-11-03 14:20:49.962\n",
      "        57 2023-01-19 10:37:09.965      Cotton /etc/periodic   cotton-20220527-vn4b.json 2023-01-19 10:37:09.965\n",
      "        41 2022-12-30 10:06:10.081     Granite    /usr/X11R6  granite-20220125-ifwa.json 2022-12-30 10:06:10.081\n",
      "        45 2023-01-04 15:24:10.123      Frozen        /Users   frozen-20221021-bjqs.json 2023-01-04 15:24:10.123\n"
     ]
    }
   ],
   "source": [
    "conn = create_connection()\n",
    "\n",
    "try:\n",
    "    query = 'SELECT * FROM design LIMIT 10;'\n",
    "    results = conn.run(query)\n",
    "\n",
    "    column_names = [desc['name'] for desc in conn.columns]\n",
    "    df_design = pd.DataFrame(results, columns=column_names)\n",
    "    print(\"Table: design\")\n",
    "    print(df_design.to_string(index=False))\n",
    "finally:\n",
    "    conn.close()"
   ]
  },
  {
   "cell_type": "code",
   "execution_count": 15,
   "metadata": {},
   "outputs": [
    {
     "name": "stdout",
     "output_type": "stream",
     "text": [
      "Table: currency\n",
      " currency_id currency_code              created_at            last_updated\n",
      "           1           GBP 2022-11-03 14:20:49.962 2022-11-03 14:20:49.962\n",
      "           2           USD 2022-11-03 14:20:49.962 2022-11-03 14:20:49.962\n",
      "           3           EUR 2022-11-03 14:20:49.962 2022-11-03 14:20:49.962\n"
     ]
    }
   ],
   "source": [
    "conn = create_connection()\n",
    "\n",
    "try:\n",
    "    query = 'SELECT * FROM currency LIMIT 10;'\n",
    "    results = conn.run(query)\n",
    "\n",
    "    column_names = [desc['name'] for desc in conn.columns]\n",
    "    df_currency = pd.DataFrame(results, columns=column_names)\n",
    "    print(\"Table: currency\")\n",
    "    print(df_currency.to_string(index=False))\n",
    "finally:\n",
    "    conn.close()"
   ]
  },
  {
   "cell_type": "code",
   "execution_count": 16,
   "metadata": {},
   "outputs": [
    {
     "name": "stdout",
     "output_type": "stream",
     "text": [
      "Table: staff\n",
      " staff_id first_name last_name  department_id                       email_address              created_at            last_updated\n",
      "        1    Jeremie    Franey              2    jeremie.franey@terrifictotes.com 2022-11-03 14:20:51.563 2022-11-03 14:20:51.563\n",
      "        2      Deron     Beier              6       deron.beier@terrifictotes.com 2022-11-03 14:20:51.563 2022-11-03 14:20:51.563\n",
      "        3   Jeanette    Erdman              6   jeanette.erdman@terrifictotes.com 2022-11-03 14:20:51.563 2022-11-03 14:20:51.563\n",
      "        4        Ana    Glover              3        ana.glover@terrifictotes.com 2022-11-03 14:20:51.563 2022-11-03 14:20:51.563\n",
      "        5  Magdalena     Zieme              8   magdalena.zieme@terrifictotes.com 2022-11-03 14:20:51.563 2022-11-03 14:20:51.563\n",
      "        6      Korey   Kreiger              3     korey.kreiger@terrifictotes.com 2022-11-03 14:20:51.563 2022-11-03 14:20:51.563\n",
      "        7    Raphael    Rippin              2    raphael.rippin@terrifictotes.com 2022-11-03 14:20:51.563 2022-11-03 14:20:51.563\n",
      "        8    Oswaldo Bergstrom              7 oswaldo.bergstrom@terrifictotes.com 2022-11-03 14:20:51.563 2022-11-03 14:20:51.563\n",
      "        9      Brody     Ratke              2       brody.ratke@terrifictotes.com 2022-11-03 14:20:51.563 2022-11-03 14:20:51.563\n",
      "       10     Jazmyn      Kuhn              2       jazmyn.kuhn@terrifictotes.com 2022-11-03 14:20:51.563 2022-11-03 14:20:51.563\n"
     ]
    }
   ],
   "source": [
    "conn = create_connection()\n",
    "\n",
    "try:\n",
    "    query = 'SELECT * FROM staff LIMIT 10;'\n",
    "    results = conn.run(query)\n",
    "\n",
    "    column_names = [desc['name'] for desc in conn.columns]\n",
    "    df_staff = pd.DataFrame(results, columns=column_names)\n",
    "    print(\"Table: staff\")\n",
    "    print(df_staff.to_string(index=False))\n",
    "finally:\n",
    "    conn.close()"
   ]
  },
  {
   "cell_type": "code",
   "execution_count": 17,
   "metadata": {},
   "outputs": [
    {
     "name": "stdout",
     "output_type": "stream",
     "text": [
      "Table: counterparty\n",
      " counterparty_id        counterparty_legal_name  legal_address_id commercial_contact        delivery_contact              created_at            last_updated\n",
      "               1                 Fahey and Sons                15        Micheal Toy Mrs. Lucy Runolfsdottir 2022-11-03 14:20:51.563 2022-11-03 14:20:51.563\n",
      "               2    Leannon, Predovic and Morar                28      Melba Sanford           Jean Hane III 2022-11-03 14:20:51.563 2022-11-03 14:20:51.563\n",
      "               3                  Armstrong Inc                 2          Jane Wiza            Myra Kovacek 2022-11-03 14:20:51.563 2022-11-03 14:20:51.563\n",
      "               4                     Kohler Inc                29        Taylor Haag       Alfredo Cassin II 2022-11-03 14:20:51.563 2022-11-03 14:20:51.563\n",
      "               5    Frami, Yundt and Macejkovic                22     Homer Mitchell         Ivan Balistreri 2022-11-03 14:20:51.563 2022-11-03 14:20:51.563\n",
      "               6                       Mraz LLC                23    Florence Casper               Eva Upton 2022-11-03 14:20:51.563 2022-11-03 14:20:51.563\n",
      "               7 Padberg, Lueilwitz and Johnson                16  Ms. Wilma Witting          Christy O'Hara 2022-11-03 14:20:51.563 2022-11-03 14:20:51.563\n",
      "               8                  Grant - Lakin                16          Emily Orn            Veronica Fay 2022-11-03 14:20:51.563 2022-11-03 14:20:51.563\n",
      "               9                      Price LLC                 5   Sheryl Langworth            Simon Schoen 2022-11-03 14:20:51.563 2022-11-03 14:20:51.563\n",
      "              10                  Bosco - Grant                10       Ed Halvorson             Dewey Kuhic 2022-11-03 14:20:51.563 2022-11-03 14:20:51.563\n"
     ]
    }
   ],
   "source": [
    "conn = create_connection()\n",
    "\n",
    "try:\n",
    "    query = 'SELECT * FROM counterparty LIMIT 10;'\n",
    "    results = conn.run(query)\n",
    "\n",
    "    column_names = [desc['name'] for desc in conn.columns]\n",
    "    df_counterparty = pd.DataFrame(results, columns=column_names)\n",
    "    print(\"Table: counterparty\")\n",
    "    print(df_counterparty.to_string(index=False))\n",
    "finally:\n",
    "    conn.close()"
   ]
  },
  {
   "cell_type": "code",
   "execution_count": 18,
   "metadata": {},
   "outputs": [
    {
     "name": "stdout",
     "output_type": "stream",
     "text": [
      "Table: address\n",
      " address_id       address_line_1   address_line_2        district              city postal_code                               country       phone              created_at            last_updated\n",
      "          1      6826 Herzog Via             None            Avon New Patienceburgh       28441                                Turkey 1803 637401 2022-11-03 14:20:49.962 2022-11-03 14:20:49.962\n",
      "          2    179 Alexie Cliffs             None            None       Aliso Viejo  99305-7380                            San Marino 9621 880720 2022-11-03 14:20:49.962 2022-11-03 14:20:49.962\n",
      "          3     148 Sincere Fort             None            None      Lake Charles       89360                                 Samoa 0730 783349 2022-11-03 14:20:49.962 2022-11-03 14:20:49.962\n",
      "          4   6102 Rogahn Skyway             None    Bedfordshire         Olsonside       47518                     Republic of Korea 1239 706295 2022-11-03 14:20:49.962 2022-11-03 14:20:49.962\n",
      "          5    34177 Upton Track             None            None    Fort Shadburgh  55993-8850                Bosnia and Herzegovina 0081 009772 2022-11-03 14:20:49.962 2022-11-03 14:20:49.962\n",
      "          6    846 Kailey Island             None            None       Kendraburgh       08841                              Zimbabwe 0447 798320 2022-11-03 14:20:49.962 2022-11-03 14:20:49.962\n",
      "          7 75653 Ernestine Ways             None Buckinghamshire     North Deshaun       02813                         Faroe Islands 1373 796260 2022-11-03 14:20:49.962 2022-11-03 14:20:49.962\n",
      "          8   0579 Durgan Common             None            None           Suffolk  56693-0660                        United Kingdom 8935 157571 2022-11-03 14:20:49.962 2022-11-03 14:20:49.962\n",
      "          9    644 Edward Garden             None         Borders          New Tyra  30825-5672                             Australia 0768 748652 2022-11-03 14:20:49.962 2022-11-03 14:20:49.962\n",
      "         10    49967 Kaylah Flat Tremaine Circles    Bedfordshire     Beaulahcester       89470 Democratic People's Republic of Korea 4949 998070 2022-11-03 14:20:49.962 2022-11-03 14:20:49.962\n"
     ]
    }
   ],
   "source": [
    "conn = create_connection()\n",
    "\n",
    "try:\n",
    "    query = 'SELECT * FROM address LIMIT 10;'\n",
    "    results = conn.run(query)\n",
    "\n",
    "    column_names = [desc['name'] for desc in conn.columns]\n",
    "    df_address = pd.DataFrame(results, columns=column_names)\n",
    "    print(\"Table: address\")\n",
    "    print(df_address.to_string(index=False))\n",
    "finally:\n",
    "    conn.close()"
   ]
  },
  {
   "cell_type": "code",
   "execution_count": 19,
   "metadata": {},
   "outputs": [
    {
     "name": "stdout",
     "output_type": "stream",
     "text": [
      "Table: department\n",
      " department_id department_name   location        manager              created_at            last_updated\n",
      "             1           Sales Manchester   Richard Roma 2022-11-03 14:20:49.962 2022-11-03 14:20:49.962\n",
      "             2      Purchasing Manchester Naomi Lapaglia 2022-11-03 14:20:49.962 2022-11-03 14:20:49.962\n",
      "             3      Production      Leeds   Chester Ming 2022-11-03 14:20:49.962 2022-11-03 14:20:49.962\n",
      "             4        Dispatch       Leds     Mark Hanna 2022-11-03 14:20:49.962 2022-11-03 14:20:49.962\n",
      "             5         Finance Manchester Jordan Belfort 2022-11-03 14:20:49.962 2022-11-03 14:20:49.962\n",
      "             6      Facilities Manchester Shelley Levene 2022-11-03 14:20:49.962 2022-11-03 14:20:49.962\n",
      "             7  Communications      Leeds      Ann Blake 2022-11-03 14:20:49.962 2022-11-03 14:20:49.962\n",
      "             8              HR      Leeds     James Link 2022-11-03 14:20:49.962 2022-11-03 14:20:49.962\n"
     ]
    }
   ],
   "source": [
    "conn = create_connection()\n",
    "\n",
    "try:\n",
    "    query = 'SELECT * FROM department LIMIT 10;'\n",
    "    results = conn.run(query)\n",
    "\n",
    "    column_names = [desc['name'] for desc in conn.columns]\n",
    "    df_department = pd.DataFrame(results, columns=column_names)\n",
    "    print(\"Table: department\")\n",
    "    print(df_department.to_string(index=False))\n",
    "finally:\n",
    "    conn.close()"
   ]
  },
  {
   "cell_type": "code",
   "execution_count": 20,
   "metadata": {},
   "outputs": [
    {
     "name": "stdout",
     "output_type": "stream",
     "text": [
      "Table: purchase_order\n",
      " purchase_order_id              created_at            last_updated  staff_id  counterparty_id item_code  item_quantity item_unit_price  currency_id agreed_delivery_date agreed_payment_date  agreed_delivery_location_id\n",
      "                 1 2022-11-03 14:20:52.187 2022-11-03 14:20:52.187        12               11   ZDOI5EA            371          361.39            2           2022-11-09          2022-11-07                            6\n",
      "                 2 2022-11-03 14:20:52.186 2022-11-03 14:20:52.186        20               17   QLZLEXR            286          199.04            2           2022-11-04          2022-11-07                            8\n",
      "                 3 2022-11-03 14:20:52.187 2022-11-03 14:20:52.187        12               15   AN3D85L            839          658.58            2           2022-11-05          2022-11-04                           16\n",
      "                 5 2022-11-03 14:20:52.186 2022-11-03 14:20:52.186        18                2   I9MET53            316          803.82            3           2022-11-10          2022-11-05                            2\n",
      "                62 2022-11-30 08:02:10.683 2022-11-30 08:02:10.683        13               12   QKQQ9IS            597          714.89            2           2022-12-03          2022-12-03                           11\n",
      "                 6 2022-11-04 11:59:09.990 2022-11-04 11:59:09.990        11                5   DAOECK5            926          155.70            2           2022-11-04          2022-11-08                           24\n",
      "                 7 2022-11-04 12:18:09.885 2022-11-04 12:18:09.885        20                5   PBF02WW             51          909.87            2           2022-11-10          2022-11-07                            7\n",
      "                 8 2022-11-04 18:03:10.233 2022-11-04 18:03:10.233        15               20   8R25O35            119          782.15            2           2022-11-10          2022-11-09                            5\n",
      "                10 2022-11-07 17:06:10.294 2022-11-07 17:06:10.294         3               10   M9NO0XK             14          695.86            2           2022-11-12          2022-11-09                           13\n",
      "                11 2022-11-07 17:36:09.898 2022-11-07 17:36:09.898        15                4   RRGNEG2            991          225.64            3           2022-11-13          2022-11-08                           29\n"
     ]
    }
   ],
   "source": [
    "conn = create_connection()\n",
    "\n",
    "try:\n",
    "    query = 'SELECT * FROM purchase_order LIMIT 10;'\n",
    "    results = conn.run(query)\n",
    "\n",
    "    column_names = [desc['name'] for desc in conn.columns]\n",
    "    df_purchase_order = pd.DataFrame(results, columns=column_names)\n",
    "    print(\"Table: purchase_order\")\n",
    "    print(df_purchase_order.to_string(index=False))\n",
    "finally:\n",
    "    conn.close()"
   ]
  },
  {
   "cell_type": "code",
   "execution_count": 21,
   "metadata": {},
   "outputs": [
    {
     "name": "stdout",
     "output_type": "stream",
     "text": [
      "Table: payment_type\n",
      " payment_type_id payment_type_name              created_at            last_updated\n",
      "               1     SALES_RECEIPT 2022-11-03 14:20:49.962 2022-11-03 14:20:49.962\n",
      "               2      SALES_REFUND 2022-11-03 14:20:49.962 2022-11-03 14:20:49.962\n",
      "               3  PURCHASE_PAYMENT 2022-11-03 14:20:49.962 2022-11-03 14:20:49.962\n",
      "               4   PURCHASE_REFUND 2022-11-03 14:20:49.962 2022-11-03 14:20:49.962\n"
     ]
    }
   ],
   "source": [
    "conn = create_connection()\n",
    "\n",
    "try:\n",
    "    query = 'SELECT * FROM payment_type LIMIT 10;'\n",
    "    results = conn.run(query)\n",
    "\n",
    "    column_names = [desc['name'] for desc in conn.columns]\n",
    "    df_payment_type = pd.DataFrame(results, columns=column_names)\n",
    "    print(\"Table: payment_type\")\n",
    "    print(df_payment_type.to_string(index=False))\n",
    "finally:\n",
    "    conn.close()"
   ]
  },
  {
   "cell_type": "code",
   "execution_count": 22,
   "metadata": {},
   "outputs": [
    {
     "name": "stdout",
     "output_type": "stream",
     "text": [
      "Table: payment\n",
      " payment_id              created_at            last_updated  transaction_id  counterparty_id payment_amount  currency_id  payment_type_id  paid payment_date  company_ac_number  counterparty_ac_number\n",
      "          2 2022-11-03 14:20:52.187 2022-11-03 14:20:52.187               2               15      552548.62            2                3 False   2022-11-04           67305075                31622269\n",
      "          3 2022-11-03 14:20:52.186 2022-11-03 14:20:52.186               3               18      205952.22            3                1 False   2022-11-03           81718079                47839086\n",
      "          5 2022-11-03 14:20:52.187 2022-11-03 14:20:52.187               5               17       57067.20            2                3 False   2022-11-06           66213052                91659548\n",
      "          8 2022-11-03 14:20:52.186 2022-11-03 14:20:52.186               8                2      254007.12            3                3 False   2022-11-05           32948439                90135525\n",
      "         16 2022-11-04 15:42:10.886 2022-11-04 15:42:10.886              16               15      250459.52            2                1 False   2022-11-05           34445327                71673373\n",
      "          1 2022-11-03 14:20:52.186 2022-11-07 07:55:11.885               1               17       56925.44            2                3  True   2022-11-07           52923196                32957646\n",
      "          4 2022-11-03 14:20:52.187 2022-11-07 07:55:11.885               4               11      134075.69            2                3  True   2022-11-07           36643778                95044396\n",
      "          7 2022-11-03 14:20:52.188 2022-11-07 07:55:11.885               7                4      191591.49            3                1  True   2022-11-07           82175151                76751527\n",
      "          9 2022-11-03 14:20:52.188 2022-11-07 07:55:11.885              10               16      124748.41            2                1  True   2022-11-07           42898540                57319206\n",
      "         11 2022-11-04 11:37:10.341 2022-11-07 07:55:11.885              11               18      334792.92            3                1  True   2022-11-07           44684909                33769696\n"
     ]
    }
   ],
   "source": [
    "conn = create_connection()\n",
    "\n",
    "try:\n",
    "    query = 'SELECT * FROM payment LIMIT 10;'\n",
    "    results = conn.run(query)\n",
    "\n",
    "    column_names = [desc['name'] for desc in conn.columns]\n",
    "    df_payment = pd.DataFrame(results, columns=column_names)\n",
    "    print(\"Table: payment\")\n",
    "    print(df_payment.to_string(index=False))\n",
    "finally:\n",
    "    conn.close()"
   ]
  },
  {
   "cell_type": "code",
   "execution_count": 23,
   "metadata": {},
   "outputs": [
    {
     "name": "stdout",
     "output_type": "stream",
     "text": [
      "Table: transaction\n",
      " transaction_id transaction_type  sales_order_id  purchase_order_id              created_at            last_updated\n",
      "              1         PURCHASE             NaN                2.0 2022-11-03 14:20:52.186 2022-11-03 14:20:52.186\n",
      "              2         PURCHASE             NaN                3.0 2022-11-03 14:20:52.187 2022-11-03 14:20:52.187\n",
      "              3             SALE             1.0                NaN 2022-11-03 14:20:52.186 2022-11-03 14:20:52.186\n",
      "              4         PURCHASE             NaN                1.0 2022-11-03 14:20:52.187 2022-11-03 14:20:52.187\n",
      "              5         PURCHASE             NaN                4.0 2022-11-03 14:20:52.187 2022-11-03 14:20:52.187\n",
      "              6             SALE             2.0                NaN 2022-11-03 14:20:52.186 2022-11-03 14:20:52.186\n",
      "              7             SALE             3.0                NaN 2022-11-03 14:20:52.188 2022-11-03 14:20:52.188\n",
      "              8         PURCHASE             NaN                5.0 2022-11-03 14:20:52.186 2022-11-03 14:20:52.186\n",
      "              9             SALE             5.0                NaN 2022-11-03 14:20:52.186 2022-11-03 14:20:52.186\n",
      "             10             SALE             4.0                NaN 2022-11-03 14:20:52.188 2022-11-03 14:20:52.188\n"
     ]
    }
   ],
   "source": [
    "conn = create_connection()\n",
    "\n",
    "try:\n",
    "    query = 'SELECT * FROM transaction LIMIT 10;'\n",
    "    results = conn.run(query)\n",
    "\n",
    "    column_names = [desc['name'] for desc in conn.columns]\n",
    "    df_transaction = pd.DataFrame(results, columns=column_names)\n",
    "    print(\"Table: transaction\")\n",
    "    print(df_transaction.to_string(index=False))\n",
    "finally:\n",
    "    conn.close()"
   ]
  },
  {
   "cell_type": "code",
   "execution_count": null,
   "metadata": {},
   "outputs": [],
   "source": []
  }
 ],
 "metadata": {
  "kernelspec": {
   "display_name": "venv",
   "language": "python",
   "name": "python3"
  },
  "language_info": {
   "codemirror_mode": {
    "name": "ipython",
    "version": 3
   },
   "file_extension": ".py",
   "mimetype": "text/x-python",
   "name": "python",
   "nbconvert_exporter": "python",
   "pygments_lexer": "ipython3",
   "version": "3.11.1"
  }
 },
 "nbformat": 4,
 "nbformat_minor": 2
}
