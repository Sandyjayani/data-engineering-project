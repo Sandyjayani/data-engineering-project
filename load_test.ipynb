{
 "cells": [
  {
   "cell_type": "code",
   "execution_count": 5,
   "metadata": {},
   "outputs": [],
   "source": [
    "import boto3\n",
    "from botocore.exceptions import ClientError\n",
    "\n",
    "\n",
    "def get_secret(secret_name):\n",
    "    if secret_name not in [\"DataSource_PostgresDB_Credentials\",\"DataTarget_PostgresDB_Credentials\"]:\n",
    "        if type(secret_name) == str:\n",
    "            raise ValueError\n",
    "        else:\n",
    "            raise TypeError\n",
    "\n",
    "    region_name = \"eu-west-2\"\n",
    "\n",
    "    # Create a Secrets Manager client\n",
    "    session = boto3.session.Session()\n",
    "    client = session.client(service_name=\"secretsmanager\", region_name=region_name)\n",
    "\n",
    "    try:\n",
    "        get_secret_value_response = client.get_secret_value(SecretId=secret_name)\n",
    "    except ClientError as e:\n",
    "        raise e\n",
    "\n",
    "    secret = get_secret_value_response[\"SecretString\"]\n",
    "    return secret\n"
   ]
  },
  {
   "cell_type": "code",
   "execution_count": 6,
   "metadata": {},
   "outputs": [],
   "source": [
    "import boto3\n",
    "from botocore.exceptions import ClientError\n",
    "from pg8000.native import Connection, Error\n",
    "import pandas as pd\n",
    "import json\n",
    "import os\n",
    "\n",
    "if os.environ.get(\"AWS_EXECUTION_ENV\") is not None:\n",
    "    from get_secret import get_secret\n",
    "else:\n",
    "    from src.load.get_secret import get_secret\n",
    "\n",
    "\n",
    "def create_connection(stage_name):\n",
    "    # Retrieve the secret\n",
    "    if stage_name == \"extraction\":\n",
    "        secret = get_secret(\"DataSource_PostgresDB_Credentials\")\n",
    "    elif stage_name == \"load\":\n",
    "        secret = get_secret(\"DataTarget_PostgresDB_Credentials\")\n",
    "    secret_dict = json.loads(secret)\n",
    "\n",
    "    # Extract credentials from the secret\n",
    "    user = secret_dict[\"user\"]\n",
    "    password = secret_dict[\"password\"]\n",
    "    host = secret_dict[\"host\"]\n",
    "    database = secret_dict[\"database\"]\n",
    "    port = secret_dict[\"port\"]\n",
    "\n",
    "    # Establish the database connection\n",
    "    conn = Connection(\n",
    "        user=user, database=database, host=host, password=password, port=port\n",
    "    )\n",
    "    return conn"
   ]
  },
  {
   "cell_type": "code",
   "execution_count": 7,
   "metadata": {},
   "outputs": [
    {
     "name": "stdout",
     "output_type": "stream",
     "text": [
      "Tables in the database:\n",
      "- project_team_9.dim_counterparty\n",
      "- project_team_9.dim_currency\n",
      "- project_team_9.dim_date\n",
      "- project_team_9.dim_design\n",
      "- project_team_9.dim_location\n",
      "- project_team_9.dim_payment_type\n",
      "- project_team_9.dim_staff\n",
      "- project_team_9.dim_transaction\n",
      "- project_team_9.fact_payment\n",
      "- project_team_9.fact_purchase_order\n",
      "- project_team_9.fact_sales_order\n",
      "[] [{'table_oid': 404637, 'column_attrnum': 1, 'type_oid': 23, 'type_size': 4, 'type_modifier': -1, 'format': 0, 'name': 'sales_record_id'}, {'table_oid': 404637, 'column_attrnum': 2, 'type_oid': 23, 'type_size': 4, 'type_modifier': -1, 'format': 0, 'name': 'sales_order_id'}, {'table_oid': 404637, 'column_attrnum': 3, 'type_oid': 1082, 'type_size': 4, 'type_modifier': -1, 'format': 0, 'name': 'created_date'}, {'table_oid': 404637, 'column_attrnum': 4, 'type_oid': 1083, 'type_size': 8, 'type_modifier': -1, 'format': 0, 'name': 'created_time'}, {'table_oid': 404637, 'column_attrnum': 5, 'type_oid': 1082, 'type_size': 4, 'type_modifier': -1, 'format': 0, 'name': 'last_updated_date'}, {'table_oid': 404637, 'column_attrnum': 6, 'type_oid': 1083, 'type_size': 8, 'type_modifier': -1, 'format': 0, 'name': 'last_updated_time'}, {'table_oid': 404637, 'column_attrnum': 7, 'type_oid': 23, 'type_size': 4, 'type_modifier': -1, 'format': 0, 'name': 'sales_staff_id'}, {'table_oid': 404637, 'column_attrnum': 8, 'type_oid': 23, 'type_size': 4, 'type_modifier': -1, 'format': 0, 'name': 'counterparty_id'}, {'table_oid': 404637, 'column_attrnum': 9, 'type_oid': 23, 'type_size': 4, 'type_modifier': -1, 'format': 0, 'name': 'units_sold'}, {'table_oid': 404637, 'column_attrnum': 10, 'type_oid': 1700, 'type_size': -1, 'type_modifier': 655366, 'format': 0, 'name': 'unit_price'}, {'table_oid': 404637, 'column_attrnum': 11, 'type_oid': 23, 'type_size': 4, 'type_modifier': -1, 'format': 0, 'name': 'currency_id'}, {'table_oid': 404637, 'column_attrnum': 12, 'type_oid': 23, 'type_size': 4, 'type_modifier': -1, 'format': 0, 'name': 'design_id'}, {'table_oid': 404637, 'column_attrnum': 13, 'type_oid': 1082, 'type_size': 4, 'type_modifier': -1, 'format': 0, 'name': 'agreed_payment_date'}, {'table_oid': 404637, 'column_attrnum': 14, 'type_oid': 1082, 'type_size': 4, 'type_modifier': -1, 'format': 0, 'name': 'agreed_delivery_date'}, {'table_oid': 404637, 'column_attrnum': 15, 'type_oid': 23, 'type_size': 4, 'type_modifier': -1, 'format': 0, 'name': 'agreed_delivery_location_id'}]\n"
     ]
    }
   ],
   "source": [
    "def have_a_look_at_the_warehouse():\n",
    "    db = create_connection(\"load\")\n",
    "    are_there_tables_query = \"\"\"\n",
    "    SELECT table_schema , table_name \n",
    "    FROM information_schema.tables\n",
    "    WHERE table_schema not in ('information_schema', 'pg_catalog')\n",
    "        AND table_type = 'BASE TABLE'\n",
    "    ORDER BY table_schema, table_name\n",
    "    \"\"\" # the answer was yes\n",
    "\n",
    "\n",
    "    tables = db.run(are_there_tables_query)\n",
    "    # print(\"Tables in the database:\")\n",
    "    for schema, table_name in tables:\n",
    "        print(f\"- {schema}.{table_name}\")\n",
    "    sql_query = \"\"\"\n",
    "    SELECT * from project_team_9.fact_sales_order LIMIT 10;\n",
    "    \"\"\"\n",
    "    response = db.run(sql_query)\n",
    "    columns = db.columns\n",
    "    print(response, columns)\n",
    "\n",
    "if __name__ == \"__main__\":\n",
    "    have_a_look_at_the_warehouse()\n"
   ]
  },
  {
   "cell_type": "code",
   "execution_count": null,
   "metadata": {},
   "outputs": [],
   "source": []
  }
 ],
 "metadata": {
  "kernelspec": {
   "display_name": "venv",
   "language": "python",
   "name": "python3"
  },
  "language_info": {
   "codemirror_mode": {
    "name": "ipython",
    "version": 3
   },
   "file_extension": ".py",
   "mimetype": "text/x-python",
   "name": "python",
   "nbconvert_exporter": "python",
   "pygments_lexer": "ipython3",
   "version": "3.11.1"
  }
 },
 "nbformat": 4,
 "nbformat_minor": 2
}
